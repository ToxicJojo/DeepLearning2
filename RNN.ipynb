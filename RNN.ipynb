{
 "cells": [
  {
   "cell_type": "code",
   "execution_count": 1,
   "metadata": {
    "collapsed": true
   },
   "outputs": [],
   "source": [
    "import tensorflow as tf\n",
    "import numpy as np\n",
    "import cPickle\n",
    "%matplotlib inline\n",
    "import matplotlib.pyplot as plt\n",
    "import pandas as pd\n",
    "\n",
    "import dataset_class as dataset"
   ]
  },
  {
   "cell_type": "code",
   "execution_count": 2,
   "metadata": {
    "collapsed": false
   },
   "outputs": [],
   "source": [
    "# Parameters\n",
    "learning_rate = 0.001\n",
    "training_iters = 100000\n",
    "batch_size = 1\n",
    "display_step = 10\n",
    "\n",
    "logs_path = \"/tmp/tensorflow/log\"    \n",
    "\n",
    "# Network Parameters\n",
    "n_input = 1 \n",
    "n_steps = 1 \n",
    "n_hidden = 1 "
   ]
  },
  {
   "cell_type": "code",
   "execution_count": 3,
   "metadata": {
    "collapsed": true
   },
   "outputs": [],
   "source": [
    "data = pd.read_csv(\"./data/project02_task2.csv\")"
   ]
  },
  {
   "cell_type": "code",
   "execution_count": 4,
   "metadata": {
    "collapsed": true
   },
   "outputs": [],
   "source": [
    "# Helper functions\n",
    "def weight_variable(shape, varName):\n",
    "  initial = tf.truncated_normal(shape, stddev=0.1)\n",
    "  return tf.Variable(initial, name=varName)\n",
    "\n",
    "def bias_variable(shape, varName):\n",
    "  initial = tf.constant(0.1, shape=shape)\n",
    "  return tf.Variable(initial, name=varName)"
   ]
  },
  {
   "cell_type": "code",
   "execution_count": 5,
   "metadata": {
    "collapsed": false
   },
   "outputs": [],
   "source": [
    "# tf Graph input\n",
    "with tf.name_scope(\"input\"):\n",
    "    _x = tf.placeholder(\"float\", [1 , 1], name=\"x-input\")\n",
    "    _y = tf.placeholder(\"float\", [1, 1], name=\"y-input\")\n",
    "\n",
    "with tf.name_scope(\"fc\"):\n",
    "    W = tf.Variable(tf.random_normal([1, 1]), name=\"weight\")\n",
    "    b = tf.Variable(tf.random_normal([1]), name=\"bias\")\n",
    "\n",
    "def RNN(x, weights, biases):\n",
    "    x = tf.split(0, 1, x)\n",
    "    # Define a lstm cell with tensorflow\n",
    "    with tf.name_scope(\"rnn\"):\n",
    "        lstm_cell = tf.nn.rnn_cell.BasicLSTMCell(1)\n",
    "        stacked_lstm = tf.nn.rnn_cell.MultiRNNCell([lstm_cell] * 1)\n",
    "\n",
    "    # Get lstm cell output\n",
    "    outputs, states = tf.contrib.rnn.rnn.rnn(stacked_lstm, x, dtype=tf.float32)\n",
    "\n",
    "    # Linear activation, using rnn inner loop last output\n",
    "    return tf.matmul(outputs[-1], weights) + biases"
   ]
  },
  {
   "cell_type": "code",
   "execution_count": 6,
   "metadata": {
    "collapsed": false
   },
   "outputs": [],
   "source": [
    "pred = RNN(_x, W, b)\n",
    "\n",
    "# Define loss and optimizer\n",
    "with tf.name_scope(\"cost\"):\n",
    "    cost = tf.sqrt(tf.reduce_mean(tf.square(tf.sub(_y, pred))))\n",
    "    \n",
    "with tf.name_scope(\"train\"):\n",
    "    optimizer = tf.train.AdamOptimizer(learning_rate=learning_rate).minimize(cost)\n",
    "\n",
    "# Evaluate model\n",
    "\n",
    "#accuracy = tf.reduce_mean(tf.cast(correct_pred, tf.float32))\n",
    "with tf.name_scope(\"accuracy\"):\n",
    "    accuracy = tf.sub(_y, pred)\n",
    "    \n",
    "tf.scalar_summary(\"cost\", cost)\n",
    "tf.scalar_summary(\"accuracy\", accuracy)\n",
    "summary_op = tf.merge_all_summaries()"
   ]
  },
  {
   "cell_type": "code",
   "execution_count": 7,
   "metadata": {
    "collapsed": false
   },
   "outputs": [
    {
     "name": "stdout",
     "output_type": "stream",
     "text": [
      "Step:  0  Acc:  [[-1.79782045]]  loss: 1.79782\n",
      "Step:  10  Acc:  [[-1.77769721]]  loss: 1.7777\n",
      "Step:  20  Acc:  [[-1.75610721]]  loss: 1.75611\n",
      "Step:  30  Acc:  [[-1.75814116]]  loss: 1.75814\n",
      "Step:  40  Acc:  [[-1.78048325]]  loss: 1.78048\n",
      "Step:  50  Acc:  [[-1.78554642]]  loss: 1.78555\n",
      "Step:  60  Acc:  [[-1.74133873]]  loss: 1.74134\n",
      "Step:  70  Acc:  [[-1.66548395]]  loss: 1.66548\n",
      "Step:  80  Acc:  [[-1.61941755]]  loss: 1.61942\n",
      "Step:  90  Acc:  [[-1.64847386]]  loss: 1.64847\n",
      "Step:  100  Acc:  [[-1.72608745]]  loss: 1.72609\n",
      "Step:  110  Acc:  [[-1.76641417]]  loss: 1.76641\n",
      "Step:  120  Acc:  [[-1.70463455]]  loss: 1.70463\n",
      "Step:  130  Acc:  [[-1.56981349]]  loss: 1.56981\n",
      "Step:  140  Acc:  [[-1.47106218]]  loss: 1.47106\n",
      "Step:  150  Acc:  [[-1.49781251]]  loss: 1.49781\n",
      "Step:  160  Acc:  [[-1.62531769]]  loss: 1.62532\n",
      "Step:  170  Acc:  [[-1.7235651]]  loss: 1.72357\n",
      "Step:  180  Acc:  [[-1.67414939]]  loss: 1.67415\n",
      "Step:  190  Acc:  [[-1.49008405]]  loss: 1.49008\n",
      "Step:  200  Acc:  [[-1.31826675]]  loss: 1.31827\n",
      "Step:  210  Acc:  [[-1.30899239]]  loss: 1.30899\n",
      "Step:  220  Acc:  [[-1.46824241]]  loss: 1.46824\n",
      "Step:  230  Acc:  [[-1.63732612]]  loss: 1.63733\n",
      "Step:  240  Acc:  [[-1.63228464]]  loss: 1.63228\n",
      "Step:  250  Acc:  [[-1.42086506]]  loss: 1.42087\n",
      "Step:  260  Acc:  [[-1.16710532]]  loss: 1.16711\n",
      "Step:  270  Acc:  [[-1.08874512]]  loss: 1.08875\n",
      "Step:  280  Acc:  [[-1.25096059]]  loss: 1.25096\n",
      "Step:  290  Acc:  [[-1.49165928]]  loss: 1.49166\n",
      "Step:  300  Acc:  [[-1.56065989]]  loss: 1.56066\n",
      "Step:  310  Acc:  [[-1.353881]]  loss: 1.35388\n",
      "Step:  320  Acc:  [[-1.02338469]]  loss: 1.02338\n",
      "Step:  330  Acc:  [[-0.8488642]]  loss: 0.848864\n",
      "Step:  340  Acc:  [[-0.97832394]]  loss: 0.978324\n",
      "Step:  350  Acc:  [[-1.27838671]]  loss: 1.27839\n",
      "Step:  360  Acc:  [[-1.44444203]]  loss: 1.44444\n",
      "Step:  370  Acc:  [[-1.28090417]]  loss: 1.2809\n",
      "Step:  380  Acc:  [[-0.89375359]]  loss: 0.893754\n",
      "Step:  390  Acc:  [[-0.60663331]]  loss: 0.606633\n",
      "Step:  400  Acc:  [[-0.66518193]]  loss: 0.665182\n",
      "Step:  410  Acc:  [[-0.99972999]]  loss: 0.99973\n",
      "Step:  420  Acc:  [[-1.27514839]]  loss: 1.27515\n",
      "Step:  430  Acc:  [[-1.19516587]]  loss: 1.19517\n",
      "Step:  440  Acc:  [[-0.78490978]]  loss: 0.78491\n",
      "Step:  450  Acc:  [[-0.38257781]]  loss: 0.382578\n",
      "Step:  460  Acc:  [[-0.33430326]]  loss: 0.334303\n",
      "Step:  470  Acc:  [[-0.66743612]]  loss: 0.667436\n",
      "Step:  480  Acc:  [[-1.05049026]]  loss: 1.05049\n",
      "Step:  490  Acc:  [[-1.09037554]]  loss: 1.09038\n",
      "Step:  500  Acc:  [[-0.70062816]]  loss: 0.700628\n",
      "Step:  510  Acc:  [[-0.19582981]]  loss: 0.19583\n",
      "Step:  520  Acc:  [[-0.01166672]]  loss: 0.0116667\n",
      "Step:  530  Acc:  [[-0.29946864]]  loss: 0.299469\n",
      "Step:  540  Acc:  [[-0.7725507]]  loss: 0.772551\n",
      "Step:  550  Acc:  [[-0.95906156]]  loss: 0.959062\n",
      "Step:  560  Acc:  [[-0.63879716]]  loss: 0.638797\n",
      "Step:  570  Acc:  [[-0.05963647]]  loss: 0.0596365\n",
      "Step:  580  Acc:  [[ 0.25644529]]  loss: 0.256445\n",
      "Step:  590  Acc:  [[ 0.01335347]]  loss: 0.0133535\n",
      "Step:  600  Acc:  [[-0.54789686]]  loss: 0.547897\n",
      "Step:  610  Acc:  [[-0.90468764]]  loss: 0.904688\n",
      "Step:  620  Acc:  [[-0.70672578]]  loss: 0.706726\n",
      "Step:  630  Acc:  [[-0.09654117]]  loss: 0.0965412\n",
      "Step:  640  Acc:  [[ 0.37662405]]  loss: 0.376624\n",
      "Step:  650  Acc:  [[ 0.27360767]]  loss: 0.273608\n",
      "Step:  660  Acc:  [[-0.31320113]]  loss: 0.313201\n",
      "Step:  670  Acc:  [[-0.83251572]]  loss: 0.832516\n",
      "Step:  680  Acc:  [[-0.79867172]]  loss: 0.798672\n",
      "Step:  690  Acc:  [[-0.20941558]]  loss: 0.209416\n",
      "Optimization Finished!\n",
      "averag test loss: [[ 0.01114326]]\n"
     ]
    },
    {
     "data": {
      "image/png": "[encoded data removed]",
      "text/plain": [
       "<matplotlib.figure.Figure at 0x7fb6a02e8090>"
      ]
     },
     "metadata": {},
     "output_type": "display_data"
    }
   ],
   "source": [
    "\n",
    "\n",
    "with tf.Session() as sess:\n",
    "    sess.run(tf.global_variables_initializer())\n",
    "    \n",
    "    train_writer = tf.train.SummaryWriter(logs_path + \"/train\", sess.graph)\n",
    "    test_writer = tf.train.SummaryWriter(logs_path + \"/test\")\n",
    "    \n",
    "    step = 0\n",
    "\n",
    "    # Keep training until reach max iterations\n",
    "    while step < 700:\n",
    "\n",
    "        x = data[\"x\"][step]\n",
    "        x = np.array([[x]])\n",
    "        \n",
    "        y = data[\"y\"][step]\n",
    "        y = np.array([[y]])\n",
    "        \n",
    "        # Run optimization op (backprop)\n",
    "        sess.run(optimizer, feed_dict={_x: x, _y: y})\n",
    "        \n",
    "        if step % display_step == 0:\n",
    "            # Calculate batch accuracy\n",
    "            acc = sess.run(accuracy, feed_dict={_x: x, _y: y})\n",
    "            # Calculate batch loss\n",
    "            loss = sess.run(cost, feed_dict={_x: x, _y: y})\n",
    "            print \"Step: \", step, \" Acc: \", acc, \" loss:\", loss\n",
    "        step += 1\n",
    "    print \"Optimization Finished!\"\n",
    "    \n",
    "    predY = np.zeros((300))\n",
    "    \n",
    "    testLoss = 0\n",
    "    \n",
    "    while step < 1000:    \n",
    "        x = data[\"x\"][step]\n",
    "        x = np.array([[x]])\n",
    "        \n",
    "        y = data[\"y\"][step]\n",
    "        y = np.array([[y]])\n",
    "        \n",
    "        \n",
    "        \n",
    "        p = sess.run(accuracy, feed_dict={_x: x, _y: y})\n",
    "        predY[step - 700] = p\n",
    "        testLoss +=  (p - y) ** 2\n",
    "            \n",
    "        step += 1\n",
    "        \n",
    "    print \"averag test loss:\", testLoss / 300\n",
    "        \n",
    "    plt.plot(data[\"x\"][700:], predY, color=\"red\")\n",
    "    plt.plot(data[\"x\"][:700], data[\"y\"][:700], color=\"blue\")\n",
    "    \n",
    "    \n",
    "    train_writer.close()\n",
    "    test_writer.close()\n"
   ]
  },
  {
   "cell_type": "code",
   "execution_count": 8,
   "metadata": {
    "collapsed": false
   },
   "outputs": [
    {
     "ename": "SyntaxError",
     "evalue": "unexpected EOF while parsing (<ipython-input-8-c22b742591a7>, line 1)",
     "output_type": "error",
     "traceback": [
      "\u001b[0;36m  File \u001b[0;32m\"<ipython-input-8-c22b742591a7>\"\u001b[0;36m, line \u001b[0;32m1\u001b[0m\n\u001b[0;31m    data[\"x\"][0\u001b[0m\n\u001b[0m               ^\u001b[0m\n\u001b[0;31mSyntaxError\u001b[0m\u001b[0;31m:\u001b[0m unexpected EOF while parsing\n"
     ]
    }
   ],
   "source": [
    "data[\"x\"][0"
   ]
  },
  {
   "cell_type": "code",
   "execution_count": null,
   "metadata": {
    "collapsed": true
   },
   "outputs": [],
   "source": []
  },
  {
   "cell_type": "code",
   "execution_count": null,
   "metadata": {
    "collapsed": true
   },
   "outputs": [],
   "source": []
  }
 ],
 "metadata": {
  "kernelspec": {
   "display_name": "Python 2",
   "language": "python",
   "name": "python2"
  },
  "language_info": {
   "codemirror_mode": {
    "name": "ipython",
    "version": 2
   },
   "file_extension": ".py",
   "mimetype": "text/x-python",
   "name": "python",
   "nbconvert_exporter": "python",
   "pygments_lexer": "ipython2",
   "version": "2.7.12+"
  }
 },
 "nbformat": 4,
 "nbformat_minor": 2
}
